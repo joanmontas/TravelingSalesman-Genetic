{
 "cells": [
  {
   "cell_type": "code",
   "execution_count": 5,
   "metadata": {},
   "outputs": [],
   "source": [
    "#/***************************************************************/\n",
    "#/* Programmer: Joan Montas                                     */\n",
    "#/*                                                             */\n",
    "#/* Program: Traveling Salesman/Hamiltonian Cycle               */\n",
    "#/*          Solved via Genetic-Algorithm approach              */\n",
    "#/*          Came up with the idea while studying biology       */\n",
    "#/*          Since then I have improve and came up with         */\n",
    "#/*          New and better technique                           */\n",
    "#/* Approximate completion time:   35 minutes                   */\n",
    "#/***************************************************************/\n",
    "import numpy as np\n",
    "import math\n",
    "import random\n",
    "import scipy\n",
    "import scipy.stats as st\n",
    "import matplotlib.pyplot as plt"
   ]
  },
  {
   "cell_type": "code",
   "execution_count": 6,
   "metadata": {},
   "outputs": [
    {
     "data": {
      "image/png": "[encoded data removed]",
      "text/plain": [
       "<Figure size 432x288 with 1 Axes>"
      ]
     },
     "metadata": {
      "needs_background": "light"
     },
     "output_type": "display_data"
    }
   ],
   "source": [
    "# mutation and number of cities\n",
    "\n",
    "listOfCity = []\n",
    "tomb = []\n",
    "\n",
    "for i in range(0,6):\n",
    "    listOfCity.append(np.array([0,i]))\n",
    "\n",
    "for i in range(1,10):\n",
    "    listOfCity.append(np.array([i,5]))\n",
    "    \n",
    "for i in range(5,0,-1):\n",
    "    listOfCity.append(np.array([10,i]))\n",
    "    \n",
    "for i in range(10,0,-1):\n",
    "    listOfCity.append(np.array([i,0]))\n",
    "\n",
    "numOfCities = len(listOfCity)\n",
    "\n",
    "for i in range(0,len(listOfCity)):\n",
    "    plt.scatter(listOfCity[i][0],listOfCity[i][1])\n",
    "plt.scatter(5,3)\n",
    "plt.show()"
   ]
  },
  {
   "cell_type": "code",
   "execution_count": 7,
   "metadata": {},
   "outputs": [
    {
     "name": "stderr",
     "output_type": "stream",
     "text": [
      "<ipython-input-7-bf206264b4ff>:11: VisibleDeprecationWarning: Creating an ndarray from ragged nested sequences (which is a list-or-tuple of lists-or-tuples-or ndarrays with different lengths or shapes) is deprecated. If you meant to do this, you must specify 'dtype=object' when creating the ndarray\n",
      "  fitIndividual.append(np.array([np.inf,np.arange(numOfCities),0]))\n"
     ]
    }
   ],
   "source": [
    "def genesis(initPopSize,numOfCities): #numOfCities = dna length\n",
    "    population  = []\n",
    "    for i in range(0,initPopSize):\n",
    "        #[distanceTravel,genetic]\n",
    "        population.append(np.array([np.inf,np.arange(numOfCities),0]))\n",
    "        np.random.shuffle(population[i][1])\n",
    "    return population\n",
    "\n",
    "#goal\n",
    "fitIndividual = []\n",
    "fitIndividual.append(np.array([np.inf,np.arange(numOfCities),0]))\n",
    "\n",
    "\n",
    "def testPopulation(population):\n",
    "    for j in range(0,len(population)):\n",
    "        total = 0\n",
    "        previous = (listOfCity[population[j][1][0]])\n",
    "        for i in range(1,len(population[j][1])):\n",
    "            current = (listOfCity[population[j][1][i]])\n",
    "            total = total + (np.sqrt( ((current[0]-previous[0])**2) + ((current[1] - previous[1])**2 )))\n",
    "            previous = current\n",
    "            \n",
    "        population[j][0] = total\n",
    "\n",
    "\n",
    "def setStandard(livingPopulation):\n",
    "    #we will use z score as it \n",
    "    #find mean\n",
    "    mean = 0\n",
    "    for i in range(0,len(livingPopulation)):\n",
    "        mean = mean + livingPopulation[i][0]\n",
    "    mean = mean/len(livingPopulation)\n",
    "    \n",
    "    #find standard deviation\n",
    "    standardDeviation = 0\n",
    "    for i in range(0,len(livingPopulation)):\n",
    "        standardDeviation = standardDeviation + ((livingPopulation[i][0] - mean)**2)\n",
    "    standardDeviation = math.sqrt(standardDeviation/len(livingPopulation))\n",
    "    \n",
    "    #set z score integrate background\n",
    "    \n",
    "    for i in range(0,len(livingPopulation)):\n",
    "        livingPopulation[i][2] = 1 - st.norm.cdf((livingPopulation[i][0]-mean)/standardDeviation)\n",
    "\n",
    "\n",
    "def breed(being1, being2,mutationRate):\n",
    "    offSpring = np.array([np.inf,   np.full(shape = len(being1[1]),fill_value=-1),0])\n",
    "    siteOfCrossOver = [random.randint(0,len(being1[1])-1),random.randint(0,len(being1[1])-1)]\n",
    "    for i in range(min(siteOfCrossOver),max(siteOfCrossOver)):\n",
    "        offSpring[1][i] = being1[1][i]\n",
    "    for i in being2[1]:\n",
    "        if i not in np.nditer(offSpring[1]):\n",
    "            for j in range(0,len(being1[1])):\n",
    "                if offSpring[1][j] == -1:\n",
    "                    offSpring[1][j] = i\n",
    "                    j = len(being1[1])\n",
    "                    break\n",
    "    if np.random.choice([0,1], p=[1-mutationRate,mutationRate]) == 1:\n",
    "        siteOfCrossOver = [random.randint(0,len(being1[1])-1),random.randint(0,len(being1[1])-1)]\n",
    "        offSpring[1][siteOfCrossOver[0]],offSpring[1][siteOfCrossOver[1]] = offSpring[1][siteOfCrossOver[1]],offSpring[1][siteOfCrossOver[0]]\n",
    "        \n",
    "    return offSpring\n",
    "\n",
    "\n",
    "def weighted_choice_king(weights):        #favoring fitter being\n",
    "    total = 0\n",
    "    winner = 0\n",
    "    for i, w in enumerate(weights):\n",
    "        total += w\n",
    "        if random.random() * total < w:\n",
    "            winner = i\n",
    "    return winner\n",
    "\n",
    "\n",
    "def breedAndPurge(livingBeing,mutationRate,maxPop):\n",
    "    newGeneration = []\n",
    "    #3/4 of population breed hyperparameter NOTE\n",
    "    for i in range(0,int(len(livingBeing)*3/4)):\n",
    "        choice = weighted_choice_king([item[2] for item in livingBeing[i+1:]])\n",
    "        offspring = breed(livingBeing[i],livingBeing[choice],mutationRate)\n",
    "        newGeneration.append(offspring)\n",
    "    #add new generation\n",
    "    for i in range(0,len(newGeneration)):\n",
    "        livingBeing.insert(0,newGeneration[i])\n",
    "    #remove 1/3 of the worst hyperparameter NOTE\n",
    "    for i in range(int(len(livingBeing) - len(livingBeing)*(1/3)),len(livingBeing)):\n",
    "        livingBeing.pop(len(livingBeing)-1)\n",
    "    #if we exceed max remove extra\n",
    "    if len(livingBeing) > maxPop:\n",
    "        while(len(livingBeing) > maxPop):\n",
    "            livingBeing.pop(len(livingBeing)-1)\n",
    "\n",
    "            \n",
    "def newGeneration(livingBeing,mutationRate,maxPop,fittestOfEachRecord):\n",
    "    testPopulation(livingBeing)\n",
    "    setStandard(livingBeing)\n",
    "    livingBeing.sort(key=lambda x: x[0], reverse = False)\n",
    "    fittestOfEachRecord.append(livingBeing[0][0])\n",
    "    breedAndPurge(livingBeing,mutationRate,maxPop)\n",
    "    testPopulation(livingBeing)\n",
    "    setStandard(livingBeing)\n",
    "    livingBeing.sort(key=lambda x: x[0], reverse = False)\n"
   ]
  },
  {
   "cell_type": "code",
   "execution_count": 8,
   "metadata": {
    "scrolled": true
   },
   "outputs": [
    {
     "name": "stderr",
     "output_type": "stream",
     "text": [
      "<ipython-input-7-bf206264b4ff>:5: VisibleDeprecationWarning: Creating an ndarray from ragged nested sequences (which is a list-or-tuple of lists-or-tuples-or ndarrays with different lengths or shapes) is deprecated. If you meant to do this, you must specify 'dtype=object' when creating the ndarray\n",
      "  population.append(np.array([np.inf,np.arange(numOfCities),0]))\n",
      "<ipython-input-7-bf206264b4ff>:47: VisibleDeprecationWarning: Creating an ndarray from ragged nested sequences (which is a list-or-tuple of lists-or-tuples-or ndarrays with different lengths or shapes) is deprecated. If you meant to do this, you must specify 'dtype=object' when creating the ndarray\n",
      "  offSpring = np.array([np.inf,   np.full(shape = len(being1[1]),fill_value=-1),0])\n"
     ]
    },
    {
     "name": "stdout",
     "output_type": "stream",
     "text": [
      "41.3851648071345\n"
     ]
    },
    {
     "data": {
      "image/png": "[encoded data removed]",
      "text/plain": [
       "<Figure size 432x288 with 1 Axes>"
      ]
     },
     "metadata": {
      "needs_background": "light"
     },
     "output_type": "display_data"
    }
   ],
   "source": [
    "fittestOfEachRecord = []\n",
    "\n",
    "initPopSize = 33      #33\n",
    "livingBeing =  genesis(initPopSize=initPopSize,numOfCities=numOfCities)\n",
    "\n",
    "mutationRate = 0.3   #0.3\n",
    "\n",
    "maxPopulation = 100  #100\n",
    "     \n",
    "generations = 200  #200\n",
    "for i in range(0,generations):\n",
    "    newGeneration(livingBeing,mutationRate,maxPopulation,fittestOfEachRecord)\n",
    "    \n",
    "\n",
    "\n",
    "testPopulation(livingBeing)\n",
    "print(livingBeing[0][0])\n",
    "x = []\n",
    "y = []\n",
    "\n",
    "for i in range(0,numOfCities):\n",
    "    x.append(listOfCity[livingBeing[0][1][i]][0])\n",
    "    y.append(listOfCity[livingBeing[0][1][i]][1])\n",
    "plt.plot(x,y,\"-o\")\n",
    "plt.show()\n",
    "\n"
   ]
  },
  {
   "cell_type": "code",
   "execution_count": 9,
   "metadata": {},
   "outputs": [
    {
     "data": {
      "image/png": "[encoded data removed]",
      "text/plain": [
       "<Figure size 432x288 with 1 Axes>"
      ]
     },
     "metadata": {
      "needs_background": "light"
     },
     "output_type": "display_data"
    }
   ],
   "source": [
    "x=[]\n",
    "for i in range(0,len(fittestOfEachRecord)):\n",
    "    x.append(i)\n",
    "\n",
    "plt.plot(x,fittestOfEachRecord,\"-o\")\n",
    "plt.show()\n",
    "#descent graph of minimizing loss function"
   ]
  }
 ],
 "metadata": {
  "kernelspec": {
   "display_name": "Python 3",
   "language": "python",
   "name": "python3"
  },
  "language_info": {
   "codemirror_mode": {
    "name": "ipython",
    "version": 3
   },
   "file_extension": ".py",
   "mimetype": "text/x-python",
   "name": "python",
   "nbconvert_exporter": "python",
   "pygments_lexer": "ipython3",
   "version": "3.9.2"
  }
 },
 "nbformat": 4,
 "nbformat_minor": 4
}
